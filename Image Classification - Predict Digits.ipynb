{
 "cells": [
  {
   "cell_type": "markdown",
   "id": "782698e3",
   "metadata": {},
   "source": [
    "# We’ll be using the digits dataset in the scikit learn library to predict digit values from images using the logistic regression model in Python."
   ]
  },
  {
   "cell_type": "markdown",
   "id": "279b1e2a",
   "metadata": {},
   "source": [
    "### Importing libraries and their associated methods"
   ]
  },
  {
   "cell_type": "code",
   "execution_count": 1,
   "id": "6205754c",
   "metadata": {},
   "outputs": [],
   "source": [
    "import re"
   ]
  },
  {
   "cell_type": "code",
   "execution_count": 4,
   "id": "a08492ea",
   "metadata": {},
   "outputs": [],
   "source": [
    "from sklearn.datasets import load_digits\n",
    "from sklearn.model_selection import train_test_split\n",
    "import numpy as np\n",
    "\n",
    "import matplotlib.pyplot as plt\n",
    "import seaborn as sns\n",
    "from sklearn import metrics\n",
    "\n",
    "%matplotlib inline"
   ]
  },
  {
   "cell_type": "code",
   "execution_count": 5,
   "id": "6f12417e",
   "metadata": {},
   "outputs": [],
   "source": [
    "digits = load_digits()"
   ]
  },
  {
   "cell_type": "markdown",
   "id": "b8dae885",
   "metadata": {},
   "source": [
    "### Determining the total number of images and labels"
   ]
  },
  {
   "cell_type": "code",
   "execution_count": 6,
   "id": "f65afad0",
   "metadata": {},
   "outputs": [
    {
     "name": "stdout",
     "output_type": "stream",
     "text": [
      "Image Data Shape (1797, 64)\n",
      "Label Data Shape (1797,)\n"
     ]
    }
   ],
   "source": [
    "print(\"Image Data Shape\", digits.data.shape)\n",
    "print(\"Label Data Shape\", digits.target.shape)"
   ]
  },
  {
   "cell_type": "markdown",
   "id": "d267eab3",
   "metadata": {},
   "source": [
    "### Displaying some of the images and their labels"
   ]
  },
  {
   "cell_type": "code",
   "execution_count": 34,
   "id": "0bedac31",
   "metadata": {},
   "outputs": [
    {
     "data": {
      "image/png": "[encoded data removed]",
      "text/plain": [
       "<Figure size 720x720 with 20 Axes>"
      ]
     },
     "metadata": {
      "needs_background": "light"
     },
     "output_type": "display_data"
    }
   ],
   "source": [
    "plt.figure(figsize =(10,10))\n",
    "\n",
    "for index, (image, label) in enumerate (zip(digits.data[0:20], digits.target[0:20])):\n",
    "    plt.subplot(4, 5, index + 1)\n",
    "    plt.imshow(np.reshape(image, (8,8)), cmap = 'magma')\n",
    "    plt.title('Training: %i\\n' % label, fontsize = 12)"
   ]
  },
  {
   "cell_type": "markdown",
   "id": "45ae0637",
   "metadata": {},
   "source": [
    "### Dividing dataset into “training” and “test” set "
   ]
  },
  {
   "cell_type": "code",
   "execution_count": 47,
   "id": "bfddad88",
   "metadata": {},
   "outputs": [],
   "source": [
    "from sklearn.model_selection import train_test_split\n",
    "x_train, x_test, y_train, y_test = train_test_split (digits.data, digits.target, test_size = 0.23, random_state = 2)"
   ]
  },
  {
   "cell_type": "code",
   "execution_count": 48,
   "id": "87fa627f",
   "metadata": {},
   "outputs": [
    {
     "name": "stdout",
     "output_type": "stream",
     "text": [
      "(1383, 64)\n"
     ]
    }
   ],
   "source": [
    "print(x_train.shape)"
   ]
  },
  {
   "cell_type": "code",
   "execution_count": 49,
   "id": "07aa7e24",
   "metadata": {},
   "outputs": [
    {
     "name": "stdout",
     "output_type": "stream",
     "text": [
      "(1383,)\n"
     ]
    }
   ],
   "source": [
    "print(y_train.shape)"
   ]
  },
  {
   "cell_type": "code",
   "execution_count": 50,
   "id": "27da8b62",
   "metadata": {},
   "outputs": [
    {
     "name": "stdout",
     "output_type": "stream",
     "text": [
      "(414, 64)\n"
     ]
    }
   ],
   "source": [
    "print(x_test.shape)"
   ]
  },
  {
   "cell_type": "code",
   "execution_count": 51,
   "id": "27af566c",
   "metadata": {},
   "outputs": [
    {
     "name": "stdout",
     "output_type": "stream",
     "text": [
      "(414,)\n"
     ]
    }
   ],
   "source": [
    "print(y_test.shape)"
   ]
  },
  {
   "cell_type": "markdown",
   "id": "61c26b8e",
   "metadata": {},
   "source": [
    "### Importing the logistic regression model"
   ]
  },
  {
   "cell_type": "code",
   "execution_count": 57,
   "id": "2676528e",
   "metadata": {},
   "outputs": [],
   "source": [
    "from sklearn.linear_model import LogisticRegression"
   ]
  },
  {
   "cell_type": "markdown",
   "id": "f208137f",
   "metadata": {},
   "source": [
    "### Making an instance of the model and training it"
   ]
  },
  {
   "cell_type": "markdown",
   "id": "3b8de9e7",
   "metadata": {},
   "source": [
    "Increased max_iter to 10000 as default value is 1000. Possibly, increasing no. of iterations will help algorithm to converge. For me it converged and solver was -'lbfgs'"
   ]
  },
  {
   "cell_type": "code",
   "execution_count": 68,
   "id": "2fb371a2",
   "metadata": {},
   "outputs": [],
   "source": [
    "logisticRegr = LogisticRegression(solver='lbfgs',class_weight='balanced', max_iter=10000)"
   ]
  },
  {
   "cell_type": "code",
   "execution_count": 69,
   "id": "0f87abd5",
   "metadata": {},
   "outputs": [
    {
     "data": {
      "text/plain": [
       "LogisticRegression(class_weight='balanced', max_iter=10000)"
      ]
     },
     "execution_count": 69,
     "metadata": {},
     "output_type": "execute_result"
    }
   ],
   "source": [
    "logisticRegr.fit(x_train, y_train)"
   ]
  },
  {
   "cell_type": "markdown",
   "id": "5d6d32e7",
   "metadata": {},
   "source": [
    "### Predicting the output of the first element of the test set"
   ]
  },
  {
   "cell_type": "code",
   "execution_count": 70,
   "id": "c1aa3923",
   "metadata": {},
   "outputs": [
    {
     "name": "stdout",
     "output_type": "stream",
     "text": [
      "[4]\n"
     ]
    }
   ],
   "source": [
    "print(logisticRegr.predict(x_test[0].reshape(1,-1)))"
   ]
  },
  {
   "cell_type": "markdown",
   "id": "9d94b8fe",
   "metadata": {},
   "source": [
    "### Predicting the output of the first 10 elements of the test set"
   ]
  },
  {
   "cell_type": "code",
   "execution_count": 71,
   "id": "67dbb771",
   "metadata": {},
   "outputs": [
    {
     "data": {
      "text/plain": [
       "array([4, 0, 9, 1, 8, 7, 1, 5, 1, 6])"
      ]
     },
     "execution_count": 71,
     "metadata": {},
     "output_type": "execute_result"
    }
   ],
   "source": [
    "logisticRegr.predict(x_test[0:10])"
   ]
  },
  {
   "cell_type": "markdown",
   "id": "94c9a38e",
   "metadata": {},
   "source": [
    "### Prediction for the entire dataset"
   ]
  },
  {
   "cell_type": "code",
   "execution_count": 77,
   "id": "7ff672e2",
   "metadata": {},
   "outputs": [],
   "source": [
    "x_pred = logisticRegr.predict(x_test)"
   ]
  },
  {
   "cell_type": "markdown",
   "id": "c062b7d3",
   "metadata": {},
   "source": [
    "### Determining the accuracy of the model"
   ]
  },
  {
   "cell_type": "code",
   "execution_count": 78,
   "id": "18154d9b",
   "metadata": {},
   "outputs": [
    {
     "data": {
      "text/plain": [
       "0.9492753623188406"
      ]
     },
     "execution_count": 78,
     "metadata": {},
     "output_type": "execute_result"
    }
   ],
   "source": [
    "score = logisticRegr.score(x_test, y_test)\n",
    "score"
   ]
  },
  {
   "cell_type": "markdown",
   "id": "1d5ca409",
   "metadata": {},
   "source": [
    "### Representing the confusion matrix in a heat map"
   ]
  },
  {
   "cell_type": "code",
   "execution_count": 81,
   "id": "7f7b48cc",
   "metadata": {},
   "outputs": [
    {
     "name": "stdout",
     "output_type": "stream",
     "text": [
      "[[37  0  0  0  1  0  0  0  0  0]\n",
      " [ 0 46  0  1  0  0  0  0  1  0]\n",
      " [ 0  0 43  0  0  0  0  0  0  0]\n",
      " [ 0  0  0 39  0  0  0  2  1  0]\n",
      " [ 0  0  0  0 34  0  0  0  3  1]\n",
      " [ 0  1  0  0  1 43  0  0  0  1]\n",
      " [ 0  1  0  0  0  0 39  0  1  0]\n",
      " [ 0  0  0  0  0  0  0 45  1  0]\n",
      " [ 0  0  0  0  1  0  0  0 36  1]\n",
      " [ 0  0  0  1  0  1  0  0  1 31]]\n"
     ]
    }
   ],
   "source": [
    "from sklearn.metrics import confusion_matrix\n",
    "\n",
    "cf_matrix = confusion_matrix(y_test, x_pred)\n",
    "print(cf_matrix)"
   ]
  },
  {
   "cell_type": "code",
   "execution_count": 84,
   "id": "12e5bf22",
   "metadata": {},
   "outputs": [
    {
     "data": {
      "text/plain": [
       "<AxesSubplot:>"
      ]
     },
     "execution_count": 84,
     "metadata": {},
     "output_type": "execute_result"
    },
    {
     "data": {
      "image/png": "[encoded data removed]",
      "text/plain": [
       "<Figure size 432x288 with 2 Axes>"
      ]
     },
     "metadata": {
      "needs_background": "light"
     },
     "output_type": "display_data"
    }
   ],
   "source": [
    "import seaborn as sns\n",
    "\n",
    "sns.heatmap(cf_matrix, annot=True, cmap = 'magma')"
   ]
  },
  {
   "cell_type": "markdown",
   "id": "085cd061",
   "metadata": {},
   "source": [
    "### Presenting predictions and actual output"
   ]
  },
  {
   "cell_type": "code",
   "execution_count": 85,
   "id": "965258bc",
   "metadata": {},
   "outputs": [],
   "source": [
    "index = 0\n",
    "misclassifiedIndex = []"
   ]
  },
  {
   "cell_type": "code",
   "execution_count": 99,
   "id": "3e8092ec",
   "metadata": {},
   "outputs": [
    {
     "data": {
      "image/png": "[encoded data removed]",
      "text/plain": [
       "<Figure size 1152x1008 with 20 Axes>"
      ]
     },
     "metadata": {
      "needs_background": "light"
     },
     "output_type": "display_data"
    }
   ],
   "source": [
    "for predict, actual in zip(x_pred, y_test):\n",
    "    if predict == actual:\n",
    "        misclassifiedIndex.append(index)\n",
    "    index += 1\n",
    "\n",
    "plt.figure(figsize=(16,14))\n",
    "\n",
    "for plotIndex, wrong in enumerate(misclassifiedIndex[0:20]):\n",
    "    plt.subplot(4,5, plotIndex + 1)\n",
    "    plt.imshow(np.reshape(x_test[wrong], (8,8)), cmap = 'magma')\n",
    "    plt.title(\"Predicted: {}, Actual: {}\" .format(predictions[wrong], y_test[wrong]), fontsize = 14)"
   ]
  },
  {
   "cell_type": "code",
   "execution_count": null,
   "id": "54b6c25f",
   "metadata": {},
   "outputs": [],
   "source": []
  }
 ],
 "metadata": {
  "kernelspec": {
   "display_name": "firstEnv",
   "language": "python",
   "name": "firstenv"
  },
  "language_info": {
   "codemirror_mode": {
    "name": "ipython",
    "version": 3
   },
   "file_extension": ".py",
   "mimetype": "text/x-python",
   "name": "python",
   "nbconvert_exporter": "python",
   "pygments_lexer": "ipython3",
   "version": "3.9.10"
  }
 },
 "nbformat": 4,
 "nbformat_minor": 5
}
